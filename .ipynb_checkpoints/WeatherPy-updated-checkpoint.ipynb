{
 "cells": [
  {
   "cell_type": "markdown",
   "metadata": {},
   "source": [
    "# WeatherPy\n",
    "----\n",
    "\n",
    "#### Note\n",
    "* Instructions have been included for each segment. You do not have to follow them exactly, but they are included to help you think through the steps."
   ]
  },
  {
   "cell_type": "code",
   "execution_count": 1,
   "metadata": {
    "scrolled": true
   },
   "outputs": [],
   "source": [
    "# Dependencies and Setup\n",
    "import matplotlib.pyplot as plt\n",
    "import pandas as pd\n",
    "import numpy as np\n",
    "import requests\n",
    "import time\n",
    "from scipy.stats import linregress\n",
    "from scipy import stats\n",
    "import json\n",
    "from datetime import datetime\n",
    "\n",
    "# Import API key\n",
    "from api_keys import weather_api_key\n",
    "\n",
    "# Incorporated citipy to determine city based on latitude and longitude\n",
    "from citipy import citipy\n",
    "\n",
    "# Output File (CSV)\n",
    "output_data_file = \"output_data/cities.csv\"\n",
    "\n",
    "# Range of latitudes and longitudes\n",
    "lat_range = (-90, 90)\n",
    "lng_range = (-180, 180)"
   ]
  },
  {
   "cell_type": "markdown",
   "metadata": {},
   "source": [
    "## Generate Cities List"
   ]
  },
  {
   "cell_type": "code",
   "execution_count": 2,
   "metadata": {},
   "outputs": [
    {
     "data": {
      "text/plain": [
       "613"
      ]
     },
     "execution_count": 2,
     "metadata": {},
     "output_type": "execute_result"
    }
   ],
   "source": [
    "# List for holding lat_lngs and cities\n",
    "lat_lngs = []\n",
    "cities = []\n",
    "\n",
    "# Create a set of random lat and lng combinations\n",
    "lats = np.random.uniform(lat_range[0], lat_range[1], size=1500)\n",
    "lngs = np.random.uniform(lng_range[0], lng_range[1], size=1500)\n",
    "lat_lngs = zip(lats, lngs)\n",
    "\n",
    "# Identify nearest city for each lat, lng combination\n",
    "for lat_lng in lat_lngs:\n",
    "    city = citipy.nearest_city(lat_lng[0], lat_lng[1]).city_name\n",
    "    \n",
    "    # If the city is unique, then add it to a our cities list\n",
    "    if city not in cities:\n",
    "        cities.append(city)\n",
    "\n",
    "# Print the city count to confirm sufficient count\n",
    "len(cities)"
   ]
  },
  {
   "cell_type": "code",
   "execution_count": null,
   "metadata": {},
   "outputs": [],
   "source": []
  },
  {
   "cell_type": "markdown",
   "metadata": {},
   "source": [
    "### Perform API Calls\n",
    "* Perform a weather check on each city using a series of successive API calls.\n",
    "* Include a print log of each city as it'sbeing processed (with the city number and city name).\n"
   ]
  },
  {
   "cell_type": "code",
   "execution_count": 3,
   "metadata": {
    "scrolled": true
   },
   "outputs": [
    {
     "name": "stdout",
     "output_type": "stream",
     "text": [
      "Beginning Data Retrieval \n",
      "----------------------\n",
      "Processing Record 1 of Set 1 | mataura\n",
      "City not found. Skipping...\n",
      "Processing Record 2 of Set 1 | methoni\n",
      "Processing Record 3 of Set 1 | ushuaia\n",
      "Processing Record 4 of Set 1 | bira\n",
      "Processing Record 5 of Set 1 | bredasdorp\n",
      "Processing Record 6 of Set 1 | punta arenas\n",
      "Processing Record 7 of Set 1 | gualaquiza\n",
      "Processing Record 8 of Set 1 | wagga wagga\n",
      "Processing Record 9 of Set 1 | byron bay\n",
      "Processing Record 10 of Set 1 | seoul\n",
      "Processing Record 11 of Set 1 | rikitea\n",
      "Processing Record 12 of Set 1 | busselton\n",
      "Processing Record 13 of Set 1 | butaritari\n",
      "City not found. Skipping...\n",
      "Processing Record 14 of Set 1 | puerto del rosario\n",
      "City not found. Skipping...\n",
      "Processing Record 15 of Set 1 | atuona\n",
      "Processing Record 16 of Set 1 | tahe\n",
      "Processing Record 17 of Set 1 | hobart\n",
      "Processing Record 18 of Set 1 | new norfolk\n",
      "Processing Record 19 of Set 1 | roma\n",
      "Processing Record 20 of Set 1 | luanda\n",
      "Processing Record 21 of Set 1 | fortuna\n",
      "Processing Record 22 of Set 1 | upernavik\n",
      "Processing Record 23 of Set 1 | lagoa\n",
      "Processing Record 24 of Set 1 | tarragona\n",
      "Processing Record 25 of Set 1 | barrow\n",
      "Processing Record 26 of Set 1 | dikson\n",
      "Processing Record 27 of Set 1 | pemberton\n",
      "Processing Record 28 of Set 1 | severo-kurilsk\n",
      "Processing Record 29 of Set 1 | almaznyy\n",
      "Processing Record 30 of Set 1 | florencia\n",
      "Processing Record 31 of Set 1 | chifeng\n",
      "Processing Record 32 of Set 1 | sao filipe\n",
      "Processing Record 33 of Set 1 | hermanus\n",
      "Processing Record 34 of Set 1 | sitka\n",
      "Processing Record 35 of Set 1 | baykit\n",
      "Processing Record 36 of Set 1 | jamestown\n",
      "City not found. Skipping...\n",
      "Processing Record 37 of Set 1 | avarua\n",
      "Processing Record 38 of Set 1 | ilulissat\n",
      "Processing Record 39 of Set 1 | ossora\n",
      "Processing Record 40 of Set 1 | iqaluit\n",
      "Processing Record 41 of Set 1 | alofi\n",
      "Processing Record 42 of Set 1 | ust-kan\n",
      "Processing Record 43 of Set 1 | bathsheba\n",
      "Processing Record 44 of Set 1 | achi\n",
      "Processing Record 45 of Set 1 | perth\n",
      "Processing Record 46 of Set 1 | hilo\n",
      "Processing Record 47 of Set 1 | buraydah\n",
      "Processing Record 48 of Set 1 | mandalgovi\n",
      "Processing Record 49 of Set 1 | tsuruoka\n",
      "Processing Record 50 of Set 1 | north bend\n",
      "Processing Record 1 of Set 2 | isangel\n",
      "Processing Record 2 of Set 2 | ahipara\n",
      "Processing Record 3 of Set 2 | baherden\n",
      "Processing Record 4 of Set 2 | seydi\n",
      "Processing Record 5 of Set 2 | pangody\n",
      "Processing Record 6 of Set 2 | kulhudhuffushi\n",
      "Processing Record 7 of Set 2 | cleethorpes\n",
      "Processing Record 8 of Set 2 | kodiak\n",
      "Processing Record 9 of Set 2 | nha trang\n",
      "Processing Record 10 of Set 2 | vila franca do campo\n",
      "Processing Record 11 of Set 2 | gold coast\n",
      "Processing Record 12 of Set 2 | weihai\n",
      "City not found. Skipping...\n",
      "Processing Record 13 of Set 2 | qaanaaq\n",
      "Processing Record 14 of Set 2 | kapaa\n",
      "Processing Record 15 of Set 2 | shieli\n",
      "Processing Record 16 of Set 2 | auki\n",
      "Processing Record 17 of Set 2 | cape town\n",
      "Processing Record 18 of Set 2 | muros\n",
      "Processing Record 19 of Set 2 | rimbey\n",
      "Processing Record 20 of Set 2 | haines junction\n",
      "Processing Record 21 of Set 2 | kushima\n",
      "Processing Record 22 of Set 2 | meulaboh\n",
      "Processing Record 23 of Set 2 | saskylakh\n",
      "Processing Record 24 of Set 2 | san luis\n",
      "Processing Record 25 of Set 2 | olafsvik\n",
      "Processing Record 26 of Set 2 | geilo\n",
      "Processing Record 27 of Set 2 | presidente franco\n",
      "Processing Record 28 of Set 2 | thompson\n",
      "Processing Record 29 of Set 2 | vaini\n",
      "Processing Record 30 of Set 2 | east london\n",
      "Processing Record 31 of Set 2 | hasaki\n",
      "Processing Record 32 of Set 2 | bambous virieux\n",
      "Processing Record 33 of Set 2 | coruripe\n",
      "Processing Record 34 of Set 2 | yerbogachen\n",
      "Processing Record 35 of Set 2 | mormugao\n",
      "Processing Record 36 of Set 2 | ancud\n",
      "Processing Record 37 of Set 2 | saint-philippe\n",
      "Processing Record 38 of Set 2 | iranshahr\n",
      "Processing Record 39 of Set 2 | krasnaya gora\n",
      "Processing Record 40 of Set 2 | puerto ayora\n",
      "Processing Record 41 of Set 2 | port hardy\n",
      "City not found. Skipping...\n",
      "Processing Record 42 of Set 2 | illapel\n",
      "Processing Record 43 of Set 2 | mount isa\n",
      "City not found. Skipping...\n",
      "Processing Record 44 of Set 2 | asau\n",
      "Processing Record 45 of Set 2 | souillac\n",
      "Processing Record 46 of Set 2 | tambun\n",
      "Processing Record 47 of Set 2 | ugoofaaru\n",
      "Processing Record 48 of Set 2 | xining\n",
      "Processing Record 49 of Set 2 | juba\n",
      "Processing Record 50 of Set 2 | arraial do cabo\n",
      "Processing Record 1 of Set 3 | colorado\n",
      "Processing Record 2 of Set 3 | carnarvon\n",
      "Processing Record 3 of Set 3 | leningradskiy\n",
      "Processing Record 4 of Set 3 | mahebourg\n",
      "Processing Record 5 of Set 3 | northam\n",
      "Processing Record 6 of Set 3 | imbituba\n",
      "Processing Record 7 of Set 3 | ponta do sol\n",
      "Processing Record 8 of Set 3 | yellowknife\n",
      "Processing Record 9 of Set 3 | luena\n",
      "Processing Record 10 of Set 3 | vila do maio\n",
      "Processing Record 11 of Set 3 | fayaoue\n",
      "Processing Record 12 of Set 3 | cayenne\n",
      "Processing Record 13 of Set 3 | roald\n",
      "Processing Record 14 of Set 3 | meridian\n",
      "Processing Record 15 of Set 3 | esperance\n",
      "Processing Record 16 of Set 3 | mareeba\n",
      "Processing Record 17 of Set 3 | geraldton\n",
      "City not found. Skipping...\n",
      "Processing Record 18 of Set 3 | longyearbyen\n",
      "Processing Record 19 of Set 3 | gawler\n",
      "Processing Record 20 of Set 3 | klaksvik\n",
      "Processing Record 21 of Set 3 | bluff\n",
      "Processing Record 22 of Set 3 | chokurdakh\n",
      "Processing Record 23 of Set 3 | husavik\n",
      "Processing Record 24 of Set 3 | saint george\n",
      "City not found. Skipping...\n",
      "Processing Record 25 of Set 3 | albany\n",
      "Processing Record 26 of Set 3 | banda aceh\n",
      "Processing Record 27 of Set 3 | doha\n",
      "Processing Record 28 of Set 3 | nanortalik\n",
      "Processing Record 29 of Set 3 | yilan\n",
      "Processing Record 30 of Set 3 | deputatskiy\n",
      "Processing Record 31 of Set 3 | gimli\n",
      "City not found. Skipping...\n",
      "Processing Record 32 of Set 3 | port alfred\n",
      "Processing Record 33 of Set 3 | la libertad\n",
      "Processing Record 34 of Set 3 | sao felix do xingu\n",
      "Processing Record 35 of Set 3 | kutum\n",
      "Processing Record 36 of Set 3 | saint-joseph\n",
      "Processing Record 37 of Set 3 | itarema\n",
      "City not found. Skipping...\n",
      "City not found. Skipping...\n",
      "Processing Record 38 of Set 3 | abu zabad\n",
      "City not found. Skipping...\n",
      "Processing Record 39 of Set 3 | sioux lookout\n",
      "Processing Record 40 of Set 3 | saquena\n",
      "Processing Record 41 of Set 3 | arkhara\n",
      "Processing Record 42 of Set 3 | castro\n",
      "City not found. Skipping...\n",
      "Processing Record 43 of Set 3 | nantucket\n",
      "Processing Record 44 of Set 3 | mar del plata\n",
      "Processing Record 45 of Set 3 | cidreira\n",
      "Processing Record 46 of Set 3 | khatanga\n",
      "Processing Record 47 of Set 3 | ternate\n",
      "Processing Record 48 of Set 3 | coquimbo\n",
      "City not found. Skipping...\n",
      "Processing Record 49 of Set 3 | hithadhoo\n",
      "Processing Record 50 of Set 3 | hambantota\n",
      "Processing Record 1 of Set 4 | college\n",
      "Processing Record 2 of Set 4 | manadhoo\n",
      "City not found. Skipping...\n",
      "Processing Record 3 of Set 4 | teguise\n",
      "Processing Record 4 of Set 4 | antalaha\n",
      "Processing Record 5 of Set 4 | norman wells\n",
      "Processing Record 6 of Set 4 | mackay\n",
      "Processing Record 7 of Set 4 | gwanda\n",
      "Processing Record 8 of Set 4 | russell\n",
      "Processing Record 9 of Set 4 | ponta delgada\n",
      "Processing Record 10 of Set 4 | walvis bay\n",
      "Processing Record 11 of Set 4 | bogorodskoye\n",
      "Processing Record 12 of Set 4 | port-gentil\n",
      "Processing Record 13 of Set 4 | sandnessjoen\n",
      "Processing Record 14 of Set 4 | tuktoyaktuk\n",
      "Processing Record 15 of Set 4 | tiksi\n",
      "Processing Record 16 of Set 4 | maralal\n",
      "City not found. Skipping...\n",
      "Processing Record 17 of Set 4 | nouadhibou\n",
      "Processing Record 18 of Set 4 | camocim\n",
      "Processing Record 19 of Set 4 | bagdarin\n",
      "Processing Record 20 of Set 4 | san cristobal\n",
      "Processing Record 21 of Set 4 | guzelyurt\n",
      "Processing Record 22 of Set 4 | lavrentiya\n",
      "Processing Record 23 of Set 4 | riberalta\n",
      "Processing Record 24 of Set 4 | kahului\n",
      "City not found. Skipping...\n",
      "Processing Record 25 of Set 4 | saint anthony\n",
      "City not found. Skipping...\n",
      "Processing Record 26 of Set 4 | pontianak\n",
      "Processing Record 27 of Set 4 | shimoda\n",
      "Processing Record 28 of Set 4 | royan\n",
      "Processing Record 29 of Set 4 | yar-sale\n",
      "Processing Record 30 of Set 4 | vardo\n",
      "Processing Record 31 of Set 4 | kavaratti\n",
      "Processing Record 32 of Set 4 | tiarei\n",
      "Processing Record 33 of Set 4 | praia da vitoria\n",
      "Processing Record 34 of Set 4 | alikovo\n",
      "Processing Record 35 of Set 4 | port moresby\n",
      "Processing Record 36 of Set 4 | acajutla\n",
      "Processing Record 37 of Set 4 | tasiilaq\n",
      "Processing Record 38 of Set 4 | ochamchira\n",
      "Processing Record 39 of Set 4 | aykhal\n",
      "Processing Record 40 of Set 4 | chandur bazar\n",
      "City not found. Skipping...\n",
      "Processing Record 41 of Set 4 | port lincoln\n",
      "City not found. Skipping...\n",
      "Processing Record 42 of Set 4 | airai\n",
      "Processing Record 43 of Set 4 | zyryanka\n",
      "Processing Record 44 of Set 4 | nicoya\n",
      "Processing Record 45 of Set 4 | altay\n",
      "Processing Record 46 of Set 4 | kemijarvi\n",
      "Processing Record 47 of Set 4 | abu dhabi\n",
      "City not found. Skipping...\n",
      "Processing Record 48 of Set 4 | saint-pierre\n",
      "Processing Record 49 of Set 4 | kruisfontein\n",
      "Processing Record 50 of Set 4 | lithgow\n",
      "Processing Record 1 of Set 5 | lebu\n",
      "Processing Record 2 of Set 5 | sinnamary\n",
      "Processing Record 3 of Set 5 | iskateley\n",
      "Processing Record 4 of Set 5 | grindavik\n",
      "Processing Record 5 of Set 5 | kondopoga\n",
      "Processing Record 6 of Set 5 | grand gaube\n",
      "Processing Record 7 of Set 5 | ndele\n",
      "Processing Record 8 of Set 5 | racine\n",
      "Processing Record 9 of Set 5 | nome\n",
      "Processing Record 10 of Set 5 | avera\n",
      "Processing Record 11 of Set 5 | katsuura\n",
      "Processing Record 12 of Set 5 | sambava\n",
      "Processing Record 13 of Set 5 | goundam\n",
      "Processing Record 14 of Set 5 | grants pass\n",
      "Processing Record 15 of Set 5 | tuatapere\n",
      "City not found. Skipping...\n",
      "Processing Record 16 of Set 5 | ribeira grande\n",
      "Processing Record 17 of Set 5 | port hueneme\n",
      "Processing Record 18 of Set 5 | tura\n",
      "Processing Record 19 of Set 5 | luba\n",
      "Processing Record 20 of Set 5 | tayu\n",
      "Processing Record 21 of Set 5 | champasak\n",
      "Processing Record 22 of Set 5 | brigantine\n",
      "Processing Record 23 of Set 5 | bilibino\n",
      "Processing Record 24 of Set 5 | guerrero negro\n",
      "Processing Record 25 of Set 5 | hamilton\n",
      "City not found. Skipping...\n",
      "Processing Record 26 of Set 5 | dingle\n",
      "Processing Record 27 of Set 5 | liuli\n",
      "City not found. Skipping...\n",
      "City not found. Skipping...\n",
      "Processing Record 28 of Set 5 | vydrino\n",
      "Processing Record 29 of Set 5 | provideniya\n",
      "Processing Record 30 of Set 5 | laguna\n",
      "Processing Record 31 of Set 5 | mount gambier\n",
      "Processing Record 32 of Set 5 | huarmey\n",
      "Processing Record 33 of Set 5 | olinda\n",
      "Processing Record 34 of Set 5 | nabire\n",
      "Processing Record 35 of Set 5 | collipulli\n",
      "Processing Record 36 of Set 5 | makakilo city\n",
      "Processing Record 37 of Set 5 | bengkulu\n",
      "Processing Record 38 of Set 5 | bonavista\n",
      "Processing Record 39 of Set 5 | kavieng\n",
      "Processing Record 40 of Set 5 | lompoc\n",
      "Processing Record 41 of Set 5 | marawi\n",
      "Processing Record 42 of Set 5 | lingao\n",
      "City not found. Skipping...\n",
      "Processing Record 43 of Set 5 | carutapera\n",
      "Processing Record 44 of Set 5 | bethel\n",
      "Processing Record 45 of Set 5 | salalah\n",
      "Processing Record 46 of Set 5 | bridlington\n",
      "Processing Record 47 of Set 5 | vanimo\n",
      "Processing Record 48 of Set 5 | jimo\n",
      "Processing Record 49 of Set 5 | necochea\n",
      "Processing Record 50 of Set 5 | kununurra\n",
      "Processing Record 1 of Set 6 | chuy\n",
      "Processing Record 2 of Set 6 | ilhabela\n",
      "Processing Record 3 of Set 6 | gadung\n",
      "Processing Record 4 of Set 6 | vao\n",
      "Processing Record 5 of Set 6 | akyab\n",
      "Processing Record 6 of Set 6 | srednekolymsk\n",
      "Processing Record 7 of Set 6 | boca do acre\n",
      "Processing Record 8 of Set 6 | pangnirtung\n",
      "Processing Record 9 of Set 6 | georgetown\n",
      "Processing Record 10 of Set 6 | kieta\n",
      "Processing Record 11 of Set 6 | thunder bay\n",
      "Processing Record 12 of Set 6 | winslow\n",
      "Processing Record 13 of Set 6 | aburi\n",
      "Processing Record 14 of Set 6 | kaitangata\n",
      "Processing Record 15 of Set 6 | miraflores\n",
      "Processing Record 16 of Set 6 | kabanjahe\n",
      "Processing Record 17 of Set 6 | hutchinson\n",
      "Processing Record 18 of Set 6 | berlevag\n",
      "Processing Record 19 of Set 6 | murgab\n",
      "Processing Record 20 of Set 6 | nsanje\n",
      "Processing Record 21 of Set 6 | nikolskoye\n",
      "Processing Record 22 of Set 6 | rubiataba\n",
      "Processing Record 23 of Set 6 | adrar\n",
      "Processing Record 24 of Set 6 | arkhipovka\n",
      "Processing Record 25 of Set 6 | benjamin aceval\n",
      "Processing Record 26 of Set 6 | price\n",
      "Processing Record 27 of Set 6 | tessalit\n",
      "Processing Record 28 of Set 6 | igarka\n",
      "Processing Record 29 of Set 6 | rajampet\n",
      "Processing Record 30 of Set 6 | syedove\n",
      "Processing Record 31 of Set 6 | garowe\n",
      "Processing Record 32 of Set 6 | filadelfia\n",
      "Processing Record 33 of Set 6 | broken hill\n",
      "City not found. Skipping...\n",
      "Processing Record 34 of Set 6 | kropotkin\n",
      "Processing Record 35 of Set 6 | bow island\n",
      "Processing Record 36 of Set 6 | kuala terengganu\n",
      "Processing Record 37 of Set 6 | san patricio\n",
      "Processing Record 38 of Set 6 | thinadhoo\n",
      "Processing Record 39 of Set 6 | sobolevo\n",
      "Processing Record 40 of Set 6 | rosetta\n",
      "Processing Record 41 of Set 6 | lokosovo\n",
      "Processing Record 42 of Set 6 | limbazi\n",
      "Processing Record 43 of Set 6 | port augusta\n",
      "Processing Record 44 of Set 6 | cherskiy\n",
      "Processing Record 45 of Set 6 | xinqing\n",
      "Processing Record 46 of Set 6 | khandyga\n",
      "Processing Record 47 of Set 6 | gigmoto\n",
      "Processing Record 48 of Set 6 | pasighat\n",
      "Processing Record 49 of Set 6 | saint-georges\n",
      "Processing Record 50 of Set 6 | tezu\n",
      "Processing Record 1 of Set 7 | fort nelson\n",
      "Processing Record 2 of Set 7 | torbay\n",
      "Processing Record 3 of Set 7 | bogo\n",
      "Processing Record 4 of Set 7 | tautira\n",
      "Processing Record 5 of Set 7 | san policarpo\n",
      "Processing Record 6 of Set 7 | half moon bay\n",
      "Processing Record 7 of Set 7 | port hedland\n",
      "Processing Record 8 of Set 7 | asfi\n",
      "Processing Record 9 of Set 7 | parvatipuram\n",
      "Processing Record 10 of Set 7 | polunochnoye\n",
      "Processing Record 11 of Set 7 | yeppoon\n",
      "Processing Record 12 of Set 7 | elat\n",
      "Processing Record 13 of Set 7 | garoua\n",
      "Processing Record 14 of Set 7 | havelock\n",
      "Processing Record 15 of Set 7 | kukmor\n",
      "Processing Record 16 of Set 7 | santo domingo\n",
      "Processing Record 17 of Set 7 | sulangan\n",
      "City not found. Skipping...\n",
      "Processing Record 18 of Set 7 | aripuana\n",
      "City not found. Skipping...\n",
      "Processing Record 19 of Set 7 | taoudenni\n",
      "Processing Record 20 of Set 7 | rajmahal\n",
      "Processing Record 21 of Set 7 | marsh harbour\n",
      "Processing Record 22 of Set 7 | henties bay\n",
      "Processing Record 23 of Set 7 | sao raimundo das mangabeiras\n",
      "Processing Record 24 of Set 7 | preston\n",
      "Processing Record 25 of Set 7 | faanui\n",
      "Processing Record 26 of Set 7 | wadi musa\n",
      "Processing Record 27 of Set 7 | pecos\n",
      "Processing Record 28 of Set 7 | tilichiki\n",
      "Processing Record 29 of Set 7 | narsaq\n",
      "Processing Record 30 of Set 7 | salt\n",
      "Processing Record 31 of Set 7 | noyabrsk\n",
      "Processing Record 32 of Set 7 | dubbo\n",
      "Processing Record 33 of Set 7 | rafaela\n",
      "Processing Record 34 of Set 7 | vestmannaeyjar\n",
      "Processing Record 35 of Set 7 | severnyy\n",
      "Processing Record 36 of Set 7 | zalantun\n",
      "Processing Record 37 of Set 7 | lamballe\n",
      "Processing Record 38 of Set 7 | lluta\n",
      "Processing Record 39 of Set 7 | owando\n",
      "City not found. Skipping...\n",
      "Processing Record 40 of Set 7 | tuy hoa\n",
      "Processing Record 41 of Set 7 | san borja\n",
      "Processing Record 42 of Set 7 | kloulklubed\n",
      "Processing Record 43 of Set 7 | diofior\n",
      "Processing Record 44 of Set 7 | yola\n",
      "Processing Record 45 of Set 7 | brae\n",
      "Processing Record 46 of Set 7 | kalmar\n",
      "Processing Record 47 of Set 7 | chama\n",
      "Processing Record 48 of Set 7 | waverly\n",
      "Processing Record 49 of Set 7 | inhambane\n",
      "Processing Record 50 of Set 7 | ulladulla\n",
      "Processing Record 1 of Set 8 | taunggyi\n",
      "Processing Record 2 of Set 8 | dukat\n",
      "Processing Record 3 of Set 8 | belmonte\n",
      "Processing Record 4 of Set 8 | vila velha\n",
      "Processing Record 5 of Set 8 | safford\n",
      "Processing Record 6 of Set 8 | tocache\n",
      "Processing Record 7 of Set 8 | leshukonskoye\n",
      "Processing Record 8 of Set 8 | padang\n",
      "Processing Record 9 of Set 8 | cloquet\n",
      "Processing Record 10 of Set 8 | dushanbe\n",
      "Processing Record 11 of Set 8 | constitucion\n",
      "Processing Record 12 of Set 8 | labrea\n",
      "Processing Record 13 of Set 8 | dangriga\n",
      "Processing Record 14 of Set 8 | formosa\n",
      "Processing Record 15 of Set 8 | nazarovo\n",
      "Processing Record 16 of Set 8 | santa marta\n",
      "Processing Record 17 of Set 8 | bereda\n",
      "Processing Record 18 of Set 8 | aklavik\n",
      "Processing Record 19 of Set 8 | los llanos de aridane\n",
      "Processing Record 20 of Set 8 | usinsk\n",
      "Processing Record 21 of Set 8 | talnakh\n",
      "Processing Record 22 of Set 8 | normandin\n",
      "Processing Record 23 of Set 8 | ballina\n",
      "Processing Record 24 of Set 8 | samarai\n",
      "Processing Record 25 of Set 8 | linxia\n",
      "Processing Record 26 of Set 8 | hedensted\n",
      "Processing Record 27 of Set 8 | cabo san lucas\n",
      "Processing Record 28 of Set 8 | hualmay\n",
      "Processing Record 29 of Set 8 | santa rosa\n",
      "Processing Record 30 of Set 8 | forestville\n",
      "Processing Record 31 of Set 8 | labuhan\n",
      "Processing Record 32 of Set 8 | ulety\n",
      "Processing Record 33 of Set 8 | merauke\n",
      "Processing Record 34 of Set 8 | mpika\n",
      "Processing Record 35 of Set 8 | alta\n",
      "Processing Record 36 of Set 8 | wajir\n",
      "Processing Record 37 of Set 8 | bay city\n",
      "Processing Record 38 of Set 8 | victoria\n",
      "Processing Record 39 of Set 8 | kampli\n",
      "Processing Record 40 of Set 8 | terney\n",
      "Processing Record 41 of Set 8 | mayo\n",
      "Processing Record 42 of Set 8 | belyy yar\n",
      "Processing Record 43 of Set 8 | marand\n",
      "Processing Record 44 of Set 8 | la ronge\n",
      "Processing Record 45 of Set 8 | dali\n",
      "City not found. Skipping...\n",
      "Processing Record 46 of Set 8 | puerto escondido\n",
      "Processing Record 47 of Set 8 | evensk\n",
      "Processing Record 48 of Set 8 | punta alta\n",
      "Processing Record 49 of Set 8 | seymchan\n",
      "Processing Record 50 of Set 8 | nuuk\n",
      "Processing Record 1 of Set 9 | richards bay\n",
      "Processing Record 2 of Set 9 | ostrovnoy\n",
      "Processing Record 3 of Set 9 | dourbali\n",
      "Processing Record 4 of Set 9 | ikirun\n",
      "Processing Record 5 of Set 9 | port elizabeth\n",
      "Processing Record 6 of Set 9 | comodoro rivadavia\n",
      "Processing Record 7 of Set 9 | olga\n",
      "Processing Record 8 of Set 9 | bose\n",
      "Processing Record 9 of Set 9 | burns lake\n",
      "Processing Record 10 of Set 9 | sharan\n",
      "Processing Record 11 of Set 9 | ornskoldsvik\n",
      "Processing Record 12 of Set 9 | hays\n",
      "Processing Record 13 of Set 9 | pytalovo\n",
      "Processing Record 14 of Set 9 | kutno\n",
      "Processing Record 15 of Set 9 | bilma\n",
      "Processing Record 16 of Set 9 | namibe\n",
      "Processing Record 17 of Set 9 | zabid\n",
      "Processing Record 18 of Set 9 | rorvik\n",
      "City not found. Skipping...\n",
      "Processing Record 19 of Set 9 | mantua\n",
      "Processing Record 20 of Set 9 | moba\n",
      "Processing Record 21 of Set 9 | ambon\n",
      "Processing Record 22 of Set 9 | capaci\n",
      "Processing Record 23 of Set 9 | mossendjo\n",
      "Processing Record 24 of Set 9 | pisco\n",
      "Processing Record 25 of Set 9 | bosaso\n",
      "Processing Record 26 of Set 9 | havoysund\n",
      "Processing Record 27 of Set 9 | abeche\n",
      "Processing Record 28 of Set 9 | mao\n",
      "Processing Record 29 of Set 9 | chanika\n",
      "Processing Record 30 of Set 9 | kyabe\n",
      "Processing Record 31 of Set 9 | manta\n",
      "Processing Record 32 of Set 9 | hobyo\n",
      "Processing Record 33 of Set 9 | la romana\n",
      "Processing Record 34 of Set 9 | paamiut\n",
      "City not found. Skipping...\n",
      "Processing Record 35 of Set 9 | shebunino\n",
      "Processing Record 36 of Set 9 | espanola\n",
      "Processing Record 37 of Set 9 | rovaniemi\n",
      "Processing Record 38 of Set 9 | kirensk\n",
      "Processing Record 39 of Set 9 | cobija\n",
      "Processing Record 40 of Set 9 | timra\n",
      "City not found. Skipping...\n",
      "Processing Record 41 of Set 9 | viedma\n",
      "Processing Record 42 of Set 9 | kaeo\n",
      "Processing Record 43 of Set 9 | along\n",
      "Processing Record 44 of Set 9 | jibuti\n",
      "Processing Record 45 of Set 9 | minudasht\n",
      "Processing Record 46 of Set 9 | shiraoi\n",
      "Processing Record 47 of Set 9 | sawtell\n",
      "Processing Record 48 of Set 9 | clyde river\n",
      "Processing Record 49 of Set 9 | pyay\n",
      "Processing Record 50 of Set 9 | gwadar\n",
      "Processing Record 1 of Set 10 | hay river\n",
      "Processing Record 2 of Set 10 | port macquarie\n",
      "Processing Record 3 of Set 10 | jining\n",
      "Processing Record 4 of Set 10 | sept-iles\n",
      "Processing Record 5 of Set 10 | zahirabad\n",
      "Processing Record 6 of Set 10 | coihaique\n",
      "Processing Record 7 of Set 10 | alta floresta\n",
      "Processing Record 8 of Set 10 | bacabal\n",
      "Processing Record 9 of Set 10 | gornopravdinsk\n",
      "Processing Record 10 of Set 10 | taian\n",
      "Processing Record 11 of Set 10 | bemidji\n",
      "Processing Record 12 of Set 10 | kapuskasing\n",
      "Processing Record 13 of Set 10 | hangu\n",
      "City not found. Skipping...\n",
      "Processing Record 14 of Set 10 | solwezi\n",
      "Processing Record 15 of Set 10 | floro\n",
      "Processing Record 16 of Set 10 | elizabeth city\n",
      "Processing Record 17 of Set 10 | sangar\n",
      "Processing Record 18 of Set 10 | sabirabad\n",
      "Processing Record 19 of Set 10 | taseyevo\n",
      "Processing Record 20 of Set 10 | sorland\n",
      "Processing Record 21 of Set 10 | plettenberg bay\n",
      "Processing Record 22 of Set 10 | nanakuli\n",
      "Processing Record 23 of Set 10 | lyngseidet\n",
      "Processing Record 24 of Set 10 | dingzhou\n",
      "Processing Record 25 of Set 10 | rundu\n",
      "Processing Record 26 of Set 10 | moerai\n",
      "City not found. Skipping...\n",
      "City not found. Skipping...\n",
      "Processing Record 27 of Set 10 | pacifica\n",
      "Processing Record 28 of Set 10 | progreso\n",
      "Processing Record 29 of Set 10 | ngunguru\n",
      "Processing Record 30 of Set 10 | watertown\n",
      "Processing Record 31 of Set 10 | veseloyarsk\n",
      "Processing Record 32 of Set 10 | poum\n",
      "City not found. Skipping...\n",
      "Processing Record 33 of Set 10 | faya\n",
      "Processing Record 34 of Set 10 | codrington\n",
      "Processing Record 35 of Set 10 | sotaquira\n",
      "Processing Record 36 of Set 10 | kisangani\n",
      "Processing Record 37 of Set 10 | shingu\n",
      "Processing Record 38 of Set 10 | ambilobe\n",
      "Processing Record 39 of Set 10 | gazanjyk\n",
      "Processing Record 40 of Set 10 | rawson\n",
      "Processing Record 41 of Set 10 | dalian\n",
      "Processing Record 42 of Set 10 | mafinga\n",
      "Processing Record 43 of Set 10 | fortaleza\n",
      "Processing Record 44 of Set 10 | gorin\n",
      "Processing Record 45 of Set 10 | spentrup\n",
      "Processing Record 46 of Set 10 | saint-augustin\n",
      "Processing Record 47 of Set 10 | panaba\n",
      "Processing Record 48 of Set 10 | quartucciu\n",
      "City not found. Skipping...\n",
      "Processing Record 49 of Set 10 | omsukchan\n",
      "Processing Record 50 of Set 10 | talaya\n",
      "Processing Record 1 of Set 11 | sibsagar\n",
      "Processing Record 2 of Set 11 | thayetmyo\n",
      "Processing Record 3 of Set 11 | leon\n",
      "Processing Record 4 of Set 11 | arman\n",
      "Processing Record 5 of Set 11 | puerto colombia\n",
      "Processing Record 6 of Set 11 | chebenki\n",
      "Processing Record 7 of Set 11 | junagarh\n",
      "Processing Record 8 of Set 11 | kuusamo\n",
      "Processing Record 9 of Set 11 | saldanha\n",
      "Processing Record 10 of Set 11 | mitsamiouli\n",
      "Processing Record 11 of Set 11 | matai\n",
      "Processing Record 12 of Set 11 | verkh-chebula\n",
      "Processing Record 13 of Set 11 | masuguru\n",
      "Processing Record 14 of Set 11 | marsa matruh\n",
      "Processing Record 15 of Set 11 | qui nhon\n",
      "Processing Record 16 of Set 11 | moose factory\n",
      "Processing Record 17 of Set 11 | goderich\n",
      "Processing Record 18 of Set 11 | hofn\n",
      "Processing Record 19 of Set 11 | caravelas\n",
      "Processing Record 20 of Set 11 | zharkent\n",
      "Processing Record 21 of Set 11 | kungurtug\n",
      "Processing Record 22 of Set 11 | yulara\n",
      "Processing Record 23 of Set 11 | pascagoula\n",
      "Processing Record 24 of Set 11 | jiuquan\n",
      "Processing Record 25 of Set 11 | lake jackson\n",
      "Processing Record 26 of Set 11 | xochitlan\n",
      "Processing Record 27 of Set 11 | linhares\n",
      "Processing Record 28 of Set 11 | carmen\n",
      "Processing Record 29 of Set 11 | kushmurun\n",
      "Processing Record 30 of Set 11 | shanghai\n",
      "Processing Record 31 of Set 11 | bataipora\n",
      "Processing Record 32 of Set 11 | najran\n",
      "City not found. Skipping...\n",
      "Processing Record 33 of Set 11 | fairbanks\n",
      "Processing Record 34 of Set 11 | cacapava do sul\n",
      "Processing Record 35 of Set 11 | sun valley\n",
      "Processing Record 36 of Set 11 | lufilufi\n",
      "Processing Record 37 of Set 11 | rongcheng\n",
      "Processing Record 38 of Set 11 | sung noen\n",
      "City not found. Skipping...\n",
      "Processing Record 39 of Set 11 | victor harbor\n",
      "Processing Record 40 of Set 11 | hervey bay\n",
      "Processing Record 41 of Set 11 | paita\n",
      "Processing Record 42 of Set 11 | ulaangom\n",
      "City not found. Skipping...\n",
      "Processing Record 43 of Set 11 | campo maior\n",
      "Processing Record 44 of Set 11 | roros\n",
      "Processing Record 45 of Set 11 | krasnoborsk\n",
      "Processing Record 46 of Set 11 | kiunga\n",
      "Processing Record 47 of Set 11 | tabuk\n",
      "Processing Record 48 of Set 11 | rabo de peixe\n",
      "Processing Record 49 of Set 11 | bintulu\n",
      "Processing Record 50 of Set 11 | palana\n",
      "Processing Record 1 of Set 12 | bubaque\n",
      "Processing Record 2 of Set 12 | millau\n",
      "Processing Record 3 of Set 12 | wagar\n",
      "Processing Record 4 of Set 12 | yatou\n",
      "Processing Record 5 of Set 12 | pak phanang\n",
      "Processing Record 6 of Set 12 | fort-shevchenko\n",
      "Processing Record 7 of Set 12 | hirara\n",
      "Processing Record 8 of Set 12 | champerico\n",
      "Processing Record 9 of Set 12 | san buenaventura\n",
      "-----------------------------\n",
      "Data Retrieval Complete\n",
      "-----------------------------\n"
     ]
    }
   ],
   "source": [
    "#https://nu.bootcampcontent.com/NU-Coding-Bootcamp/nu-chi-data-pt-02-2021-u-c/-/blob/master/01-Lesson-Plans/06-Python-APIs/2/Activities/10-Stu_API_Exceptions/Solved/api_exceptions.ipynb\n",
    "# Set url for API\n",
    "url = \"http://api.openweathermap.org/data/2.5/weather?\"\n",
    "\n",
    "# Set empty lists\n",
    "city_name = []\n",
    "lat = []\n",
    "lng = []\n",
    "max_temp = []\n",
    "humidity = []\n",
    "cloudiness = []\n",
    "wind_speed = []\n",
    "country = []\n",
    "date = []\n",
    "\n",
    "index_count = 0\n",
    "set_count = 1\n",
    "\n",
    "#used https://nu.bootcampcontent.com/NU-Coding-Bootcamp/nu-chi-data-pt-02-2021-u-c/-/blob/master/01-Lesson-Plans/06-Python-APIs/2/Activities/03-Ins_OpenWeatherRequest/Solved/Ins_OpenWeatherRequest.ipynb\n",
    "#use try except method\n",
    "#used https://nu.bootcampcontent.com/NU-Coding-Bootcamp/nu-chi-data-pt-02-2021-u-c/-/blob/master/01-Lesson-Plans/06-Python-APIs/2/Activities/07-Stu_Weather_Stats/Solved/weather_stats.ipynb\n",
    "print(\"Beginning Data Retrieval \")\n",
    "print(\"----------------------\")\n",
    "\n",
    "for city in cities:\n",
    "    \n",
    "    query_url = url + \"appid=\" + weather_api_key + \"&q=\" + city + \"&units=imperial\"\n",
    "    response = requests.get(query_url).json()\n",
    "    \n",
    "    try:\n",
    "        city_name.append(response['name'])\n",
    "        lat.append(response['coord']['lat'])\n",
    "        lng.append(response['coord']['lon'])\n",
    "        max_temp.append(response['main']['temp_max'])\n",
    "        humidity.append(response['main']['humidity'])\n",
    "        cloudiness.append(response['clouds']['all'])\n",
    "        wind_speed.append(response['wind']['speed'])\n",
    "        country.append(response['sys']['country'])\n",
    "        date.append(response['dt'])\n",
    "        if index_count > 49:\n",
    "            index_count = 0\n",
    "            set_count = set_count + 1\n",
    "        else:\n",
    "            index_count = index_count + 1\n",
    "            print(f\"Processing Record {index_count} of Set {set_count} | {city}\")\n",
    "            pass\n",
    "    except:\n",
    "        print(\"City not found. Skipping...\")\n",
    "        pass\n",
    "    \n",
    "print(\"-----------------------------\")\n",
    "print(\"Data Retrieval Complete\")\n",
    "print(\"-----------------------------\")"
   ]
  },
  {
   "cell_type": "markdown",
   "metadata": {},
   "source": [
    "### Convert Raw Data to DataFrame\n",
    "* Export the city data into a .csv.\n",
    "* Display the DataFrame"
   ]
  },
  {
   "cell_type": "code",
   "execution_count": 4,
   "metadata": {},
   "outputs": [
    {
     "data": {
      "text/html": [
       "<div>\n",
       "<style scoped>\n",
       "    .dataframe tbody tr th:only-of-type {\n",
       "        vertical-align: middle;\n",
       "    }\n",
       "\n",
       "    .dataframe tbody tr th {\n",
       "        vertical-align: top;\n",
       "    }\n",
       "\n",
       "    .dataframe thead th {\n",
       "        text-align: right;\n",
       "    }\n",
       "</style>\n",
       "<table border=\"1\" class=\"dataframe\">\n",
       "  <thead>\n",
       "    <tr style=\"text-align: right;\">\n",
       "      <th></th>\n",
       "      <th>City</th>\n",
       "      <th>Lat</th>\n",
       "      <th>Lng</th>\n",
       "      <th>Max Temp</th>\n",
       "      <th>Humidity</th>\n",
       "      <th>Cloudiness</th>\n",
       "      <th>Wind Speed</th>\n",
       "      <th>country</th>\n",
       "      <th>Date</th>\n",
       "    </tr>\n",
       "  </thead>\n",
       "  <tbody>\n",
       "    <tr>\n",
       "      <th>0</th>\n",
       "      <td>Mataura</td>\n",
       "      <td>-46.1927</td>\n",
       "      <td>168.8643</td>\n",
       "      <td>50.49</td>\n",
       "      <td>71</td>\n",
       "      <td>41</td>\n",
       "      <td>3.11</td>\n",
       "      <td>NZ</td>\n",
       "      <td>1627004508</td>\n",
       "    </tr>\n",
       "    <tr>\n",
       "      <th>1</th>\n",
       "      <td>Methóni</td>\n",
       "      <td>36.8197</td>\n",
       "      <td>21.7049</td>\n",
       "      <td>78.22</td>\n",
       "      <td>79</td>\n",
       "      <td>0</td>\n",
       "      <td>4.29</td>\n",
       "      <td>GR</td>\n",
       "      <td>1627004101</td>\n",
       "    </tr>\n",
       "    <tr>\n",
       "      <th>2</th>\n",
       "      <td>Ushuaia</td>\n",
       "      <td>-54.8000</td>\n",
       "      <td>-68.3000</td>\n",
       "      <td>38.86</td>\n",
       "      <td>70</td>\n",
       "      <td>75</td>\n",
       "      <td>4.61</td>\n",
       "      <td>AR</td>\n",
       "      <td>1627004508</td>\n",
       "    </tr>\n",
       "    <tr>\n",
       "      <th>3</th>\n",
       "      <td>Bira</td>\n",
       "      <td>49.0000</td>\n",
       "      <td>132.4667</td>\n",
       "      <td>92.41</td>\n",
       "      <td>44</td>\n",
       "      <td>45</td>\n",
       "      <td>4.83</td>\n",
       "      <td>RU</td>\n",
       "      <td>1627004509</td>\n",
       "    </tr>\n",
       "    <tr>\n",
       "      <th>4</th>\n",
       "      <td>Bredasdorp</td>\n",
       "      <td>-34.5322</td>\n",
       "      <td>20.0403</td>\n",
       "      <td>42.12</td>\n",
       "      <td>93</td>\n",
       "      <td>100</td>\n",
       "      <td>3.44</td>\n",
       "      <td>ZA</td>\n",
       "      <td>1627004509</td>\n",
       "    </tr>\n",
       "  </tbody>\n",
       "</table>\n",
       "</div>"
      ],
      "text/plain": [
       "         City      Lat       Lng  Max Temp  Humidity  Cloudiness  Wind Speed  \\\n",
       "0     Mataura -46.1927  168.8643     50.49        71          41        3.11   \n",
       "1     Methóni  36.8197   21.7049     78.22        79           0        4.29   \n",
       "2     Ushuaia -54.8000  -68.3000     38.86        70          75        4.61   \n",
       "3        Bira  49.0000  132.4667     92.41        44          45        4.83   \n",
       "4  Bredasdorp -34.5322   20.0403     42.12        93         100        3.44   \n",
       "\n",
       "  country        Date  \n",
       "0      NZ  1627004508  \n",
       "1      GR  1627004101  \n",
       "2      AR  1627004508  \n",
       "3      RU  1627004509  \n",
       "4      ZA  1627004509  "
      ]
     },
     "execution_count": 4,
     "metadata": {},
     "output_type": "execute_result"
    }
   ],
   "source": [
    "#https://nu.bootcampcontent.com/NU-Coding-Bootcamp/nu-chi-data-pt-02-2021-u-c/-/blob/master/01-Lesson-Plans/06-Python-APIs/2/Activities/10-Stu_API_Exceptions/Solved/api_exceptions.ipynb\n",
    "#create df\n",
    "weather_df = pd.DataFrame({\n",
    "    'City': city_name,\n",
    "    'Lat': lat,\n",
    "    'Lng': lng,\n",
    "    'Max Temp': max_temp,\n",
    "    'Humidity': humidity,\n",
    "    'Cloudiness': cloudiness,\n",
    "    'Wind Speed': wind_speed,\n",
    "    'country': country,\n",
    "    'Date': date\n",
    "})\n",
    "weather_df.head()"
   ]
  },
  {
   "cell_type": "code",
   "execution_count": 5,
   "metadata": {},
   "outputs": [
    {
     "data": {
      "text/html": [
       "<div>\n",
       "<style scoped>\n",
       "    .dataframe tbody tr th:only-of-type {\n",
       "        vertical-align: middle;\n",
       "    }\n",
       "\n",
       "    .dataframe tbody tr th {\n",
       "        vertical-align: top;\n",
       "    }\n",
       "\n",
       "    .dataframe thead th {\n",
       "        text-align: right;\n",
       "    }\n",
       "</style>\n",
       "<table border=\"1\" class=\"dataframe\">\n",
       "  <thead>\n",
       "    <tr style=\"text-align: right;\">\n",
       "      <th></th>\n",
       "      <th>City</th>\n",
       "      <th>Lat</th>\n",
       "      <th>Lng</th>\n",
       "      <th>Max Temp</th>\n",
       "      <th>Humidity</th>\n",
       "      <th>Cloudiness</th>\n",
       "      <th>Wind Speed</th>\n",
       "      <th>country</th>\n",
       "      <th>Date</th>\n",
       "    </tr>\n",
       "  </thead>\n",
       "  <tbody>\n",
       "    <tr>\n",
       "      <th>0</th>\n",
       "      <td>Mataura</td>\n",
       "      <td>-46.1927</td>\n",
       "      <td>168.8643</td>\n",
       "      <td>50.49</td>\n",
       "      <td>71</td>\n",
       "      <td>41</td>\n",
       "      <td>3.11</td>\n",
       "      <td>NZ</td>\n",
       "      <td>1627004508</td>\n",
       "    </tr>\n",
       "    <tr>\n",
       "      <th>1</th>\n",
       "      <td>Methóni</td>\n",
       "      <td>36.8197</td>\n",
       "      <td>21.7049</td>\n",
       "      <td>78.22</td>\n",
       "      <td>79</td>\n",
       "      <td>0</td>\n",
       "      <td>4.29</td>\n",
       "      <td>GR</td>\n",
       "      <td>1627004101</td>\n",
       "    </tr>\n",
       "    <tr>\n",
       "      <th>2</th>\n",
       "      <td>Ushuaia</td>\n",
       "      <td>-54.8000</td>\n",
       "      <td>-68.3000</td>\n",
       "      <td>38.86</td>\n",
       "      <td>70</td>\n",
       "      <td>75</td>\n",
       "      <td>4.61</td>\n",
       "      <td>AR</td>\n",
       "      <td>1627004508</td>\n",
       "    </tr>\n",
       "    <tr>\n",
       "      <th>3</th>\n",
       "      <td>Bira</td>\n",
       "      <td>49.0000</td>\n",
       "      <td>132.4667</td>\n",
       "      <td>92.41</td>\n",
       "      <td>44</td>\n",
       "      <td>45</td>\n",
       "      <td>4.83</td>\n",
       "      <td>RU</td>\n",
       "      <td>1627004509</td>\n",
       "    </tr>\n",
       "    <tr>\n",
       "      <th>4</th>\n",
       "      <td>Bredasdorp</td>\n",
       "      <td>-34.5322</td>\n",
       "      <td>20.0403</td>\n",
       "      <td>42.12</td>\n",
       "      <td>93</td>\n",
       "      <td>100</td>\n",
       "      <td>3.44</td>\n",
       "      <td>ZA</td>\n",
       "      <td>1627004509</td>\n",
       "    </tr>\n",
       "    <tr>\n",
       "      <th>...</th>\n",
       "      <td>...</td>\n",
       "      <td>...</td>\n",
       "      <td>...</td>\n",
       "      <td>...</td>\n",
       "      <td>...</td>\n",
       "      <td>...</td>\n",
       "      <td>...</td>\n",
       "      <td>...</td>\n",
       "      <td>...</td>\n",
       "    </tr>\n",
       "    <tr>\n",
       "      <th>565</th>\n",
       "      <td>Pak Phanang</td>\n",
       "      <td>8.3511</td>\n",
       "      <td>100.2020</td>\n",
       "      <td>87.08</td>\n",
       "      <td>71</td>\n",
       "      <td>100</td>\n",
       "      <td>11.18</td>\n",
       "      <td>TH</td>\n",
       "      <td>1627004651</td>\n",
       "    </tr>\n",
       "    <tr>\n",
       "      <th>566</th>\n",
       "      <td>Fort-Shevchenko</td>\n",
       "      <td>44.5086</td>\n",
       "      <td>50.2630</td>\n",
       "      <td>82.85</td>\n",
       "      <td>70</td>\n",
       "      <td>100</td>\n",
       "      <td>17.69</td>\n",
       "      <td>KZ</td>\n",
       "      <td>1627004651</td>\n",
       "    </tr>\n",
       "    <tr>\n",
       "      <th>567</th>\n",
       "      <td>Hirara</td>\n",
       "      <td>24.8000</td>\n",
       "      <td>125.2833</td>\n",
       "      <td>80.87</td>\n",
       "      <td>100</td>\n",
       "      <td>75</td>\n",
       "      <td>44.87</td>\n",
       "      <td>JP</td>\n",
       "      <td>1627004651</td>\n",
       "    </tr>\n",
       "    <tr>\n",
       "      <th>568</th>\n",
       "      <td>Champerico</td>\n",
       "      <td>14.3000</td>\n",
       "      <td>-91.9167</td>\n",
       "      <td>83.35</td>\n",
       "      <td>81</td>\n",
       "      <td>67</td>\n",
       "      <td>6.35</td>\n",
       "      <td>GT</td>\n",
       "      <td>1627004387</td>\n",
       "    </tr>\n",
       "    <tr>\n",
       "      <th>569</th>\n",
       "      <td>San Buenaventura</td>\n",
       "      <td>27.0833</td>\n",
       "      <td>-101.5333</td>\n",
       "      <td>85.48</td>\n",
       "      <td>68</td>\n",
       "      <td>45</td>\n",
       "      <td>0.87</td>\n",
       "      <td>MX</td>\n",
       "      <td>1627004651</td>\n",
       "    </tr>\n",
       "  </tbody>\n",
       "</table>\n",
       "<p>570 rows × 9 columns</p>\n",
       "</div>"
      ],
      "text/plain": [
       "                 City      Lat       Lng  Max Temp  Humidity  Cloudiness  \\\n",
       "0             Mataura -46.1927  168.8643     50.49        71          41   \n",
       "1             Methóni  36.8197   21.7049     78.22        79           0   \n",
       "2             Ushuaia -54.8000  -68.3000     38.86        70          75   \n",
       "3                Bira  49.0000  132.4667     92.41        44          45   \n",
       "4          Bredasdorp -34.5322   20.0403     42.12        93         100   \n",
       "..                ...      ...       ...       ...       ...         ...   \n",
       "565       Pak Phanang   8.3511  100.2020     87.08        71         100   \n",
       "566   Fort-Shevchenko  44.5086   50.2630     82.85        70         100   \n",
       "567            Hirara  24.8000  125.2833     80.87       100          75   \n",
       "568        Champerico  14.3000  -91.9167     83.35        81          67   \n",
       "569  San Buenaventura  27.0833 -101.5333     85.48        68          45   \n",
       "\n",
       "     Wind Speed country        Date  \n",
       "0          3.11      NZ  1627004508  \n",
       "1          4.29      GR  1627004101  \n",
       "2          4.61      AR  1627004508  \n",
       "3          4.83      RU  1627004509  \n",
       "4          3.44      ZA  1627004509  \n",
       "..          ...     ...         ...  \n",
       "565       11.18      TH  1627004651  \n",
       "566       17.69      KZ  1627004651  \n",
       "567       44.87      JP  1627004651  \n",
       "568        6.35      GT  1627004387  \n",
       "569        0.87      MX  1627004651  \n",
       "\n",
       "[570 rows x 9 columns]"
      ]
     },
     "execution_count": 5,
     "metadata": {},
     "output_type": "execute_result"
    }
   ],
   "source": [
    "#saving to CSV\n",
    "weather_df.to_csv('output_data/weather_df.csv', encoding=\"utf-8\", index=False)\n",
    "weather_df"
   ]
  },
  {
   "cell_type": "code",
   "execution_count": null,
   "metadata": {},
   "outputs": [],
   "source": []
  },
  {
   "cell_type": "markdown",
   "metadata": {},
   "source": [
    "## Inspect the data and remove the cities where the humidity > 100%.\n",
    "----\n",
    "Skip this step if there are no cities that have humidity > 100%. "
   ]
  },
  {
   "cell_type": "code",
   "execution_count": 6,
   "metadata": {},
   "outputs": [
    {
     "data": {
      "text/html": [
       "<div>\n",
       "<style scoped>\n",
       "    .dataframe tbody tr th:only-of-type {\n",
       "        vertical-align: middle;\n",
       "    }\n",
       "\n",
       "    .dataframe tbody tr th {\n",
       "        vertical-align: top;\n",
       "    }\n",
       "\n",
       "    .dataframe thead th {\n",
       "        text-align: right;\n",
       "    }\n",
       "</style>\n",
       "<table border=\"1\" class=\"dataframe\">\n",
       "  <thead>\n",
       "    <tr style=\"text-align: right;\">\n",
       "      <th></th>\n",
       "      <th>Lat</th>\n",
       "      <th>Lng</th>\n",
       "      <th>Max Temp</th>\n",
       "      <th>Humidity</th>\n",
       "      <th>Cloudiness</th>\n",
       "      <th>Wind Speed</th>\n",
       "      <th>Date</th>\n",
       "    </tr>\n",
       "  </thead>\n",
       "  <tbody>\n",
       "    <tr>\n",
       "      <th>count</th>\n",
       "      <td>550.000000</td>\n",
       "      <td>550.000000</td>\n",
       "      <td>550.000000</td>\n",
       "      <td>550.000000</td>\n",
       "      <td>550.000000</td>\n",
       "      <td>550.000000</td>\n",
       "      <td>5.500000e+02</td>\n",
       "    </tr>\n",
       "    <tr>\n",
       "      <th>mean</th>\n",
       "      <td>19.973545</td>\n",
       "      <td>17.124400</td>\n",
       "      <td>58.331400</td>\n",
       "      <td>67.890909</td>\n",
       "      <td>52.141818</td>\n",
       "      <td>8.544800</td>\n",
       "      <td>1.585764e+09</td>\n",
       "    </tr>\n",
       "    <tr>\n",
       "      <th>std</th>\n",
       "      <td>33.284840</td>\n",
       "      <td>91.595451</td>\n",
       "      <td>25.795297</td>\n",
       "      <td>20.864881</td>\n",
       "      <td>35.766469</td>\n",
       "      <td>6.078869</td>\n",
       "      <td>5.539674e+01</td>\n",
       "    </tr>\n",
       "    <tr>\n",
       "      <th>min</th>\n",
       "      <td>-54.800000</td>\n",
       "      <td>-179.170000</td>\n",
       "      <td>-11.340000</td>\n",
       "      <td>9.000000</td>\n",
       "      <td>0.000000</td>\n",
       "      <td>0.160000</td>\n",
       "      <td>1.585764e+09</td>\n",
       "    </tr>\n",
       "    <tr>\n",
       "      <th>25%</th>\n",
       "      <td>-8.077500</td>\n",
       "      <td>-64.627500</td>\n",
       "      <td>42.800000</td>\n",
       "      <td>55.000000</td>\n",
       "      <td>20.000000</td>\n",
       "      <td>4.525000</td>\n",
       "      <td>1.585764e+09</td>\n",
       "    </tr>\n",
       "    <tr>\n",
       "      <th>50%</th>\n",
       "      <td>23.630000</td>\n",
       "      <td>19.635000</td>\n",
       "      <td>64.940000</td>\n",
       "      <td>72.000000</td>\n",
       "      <td>57.000000</td>\n",
       "      <td>7.325000</td>\n",
       "      <td>1.585764e+09</td>\n",
       "    </tr>\n",
       "    <tr>\n",
       "      <th>75%</th>\n",
       "      <td>48.672500</td>\n",
       "      <td>97.350000</td>\n",
       "      <td>78.800000</td>\n",
       "      <td>83.000000</td>\n",
       "      <td>86.750000</td>\n",
       "      <td>11.410000</td>\n",
       "      <td>1.585764e+09</td>\n",
       "    </tr>\n",
       "    <tr>\n",
       "      <th>max</th>\n",
       "      <td>78.220000</td>\n",
       "      <td>179.320000</td>\n",
       "      <td>102.200000</td>\n",
       "      <td>100.000000</td>\n",
       "      <td>100.000000</td>\n",
       "      <td>46.080000</td>\n",
       "      <td>1.585764e+09</td>\n",
       "    </tr>\n",
       "  </tbody>\n",
       "</table>\n",
       "</div>"
      ],
      "text/plain": [
       "              Lat         Lng    Max Temp    Humidity  Cloudiness  Wind Speed  \\\n",
       "count  550.000000  550.000000  550.000000  550.000000  550.000000  550.000000   \n",
       "mean    19.973545   17.124400   58.331400   67.890909   52.141818    8.544800   \n",
       "std     33.284840   91.595451   25.795297   20.864881   35.766469    6.078869   \n",
       "min    -54.800000 -179.170000  -11.340000    9.000000    0.000000    0.160000   \n",
       "25%     -8.077500  -64.627500   42.800000   55.000000   20.000000    4.525000   \n",
       "50%     23.630000   19.635000   64.940000   72.000000   57.000000    7.325000   \n",
       "75%     48.672500   97.350000   78.800000   83.000000   86.750000   11.410000   \n",
       "max     78.220000  179.320000  102.200000  100.000000  100.000000   46.080000   \n",
       "\n",
       "               Date  \n",
       "count  5.500000e+02  \n",
       "mean   1.585764e+09  \n",
       "std    5.539674e+01  \n",
       "min    1.585764e+09  \n",
       "25%    1.585764e+09  \n",
       "50%    1.585764e+09  \n",
       "75%    1.585764e+09  \n",
       "max    1.585764e+09  "
      ]
     },
     "execution_count": 6,
     "metadata": {},
     "output_type": "execute_result"
    }
   ],
   "source": []
  },
  {
   "cell_type": "code",
   "execution_count": 17,
   "metadata": {},
   "outputs": [
    {
     "data": {
      "text/plain": [
       "Int64Index([], dtype='int64')"
      ]
     },
     "execution_count": 17,
     "metadata": {},
     "output_type": "execute_result"
    }
   ],
   "source": [
    "#  Get the indices of cities that have humidity over 100%.\n"
   ]
  },
  {
   "cell_type": "code",
   "execution_count": 6,
   "metadata": {},
   "outputs": [],
   "source": [
    "# Make a new DataFrame equal to the city data to drop all humidity outliers by index.\n",
    "# Passing \"inplace=False\" will make a copy of the city_data DataFrame, which we call \"clean_city_data\".\n"
   ]
  },
  {
   "cell_type": "code",
   "execution_count": null,
   "metadata": {},
   "outputs": [],
   "source": [
    "\n"
   ]
  },
  {
   "cell_type": "markdown",
   "metadata": {},
   "source": [
    "## Plotting the Data\n",
    "* Use proper labeling of the plots using plot titles (including date of analysis) and axes labels.\n",
    "* Save the plotted figures as .pngs."
   ]
  },
  {
   "cell_type": "markdown",
   "metadata": {},
   "source": [
    "## Latitude vs. Temperature Plot"
   ]
  },
  {
   "cell_type": "code",
   "execution_count": 9,
   "metadata": {
    "scrolled": true
   },
   "outputs": [
    {
     "data": {
      "image/png": "[encoded data removed]",
      "text/plain": [
       "<Figure size 432x288 with 1 Axes>"
      ]
     },
     "metadata": {
      "needs_background": "light"
     },
     "output_type": "display_data"
    }
   ],
   "source": [
    "# Create a Scatter Plot for temperature vs latitude\n",
    "#https://nu.bootcampcontent.com/NU-Coding-Bootcamp/nu-chi-data-pt-02-2021-u-c/-/blob/master/01-Lesson-Plans/06-Python-APIs/2/Activities/07-Stu_Weather_Stats/Solved/weather_stats.ipynb\n",
    "\n",
    "x_values = weather_df['Lat']\n",
    "y_values = weather_df['Max Temp']\n",
    "plt.title(\"City Latitude vs. Max Temperature (07/22/21)\")\n",
    "plt.scatter(x_values,y_values)\n",
    "plt.xlabel('Latitude')\n",
    "plt.ylabel('Max Temperature (F)')\n",
    "plt.grid(True)\n",
    "plt.show()"
   ]
  },
  {
   "cell_type": "markdown",
   "metadata": {},
   "source": [
    "## Latitude vs. Humidity Plot"
   ]
  },
  {
   "cell_type": "code",
   "execution_count": 10,
   "metadata": {},
   "outputs": [
    {
     "data": {
      "image/png": "[encoded data removed]",
      "text/plain": [
       "<Figure size 432x288 with 1 Axes>"
      ]
     },
     "metadata": {
      "needs_background": "light"
     },
     "output_type": "display_data"
    }
   ],
   "source": [
    "x_values = weather_df['Lat']\n",
    "y_values = weather_df['Humidity']\n",
    "plt.title(\"City Latitude vs. Humidity (07/22/21)\")\n",
    "plt.scatter(x_values,y_values)\n",
    "plt.xlabel('Latitude')\n",
    "plt.ylabel('Humidity (%)')\n",
    "plt.grid(True)\n",
    "plt.show()"
   ]
  },
  {
   "cell_type": "markdown",
   "metadata": {},
   "source": [
    "## Latitude vs. Cloudiness Plot"
   ]
  },
  {
   "cell_type": "code",
   "execution_count": 11,
   "metadata": {},
   "outputs": [
    {
     "data": {
      "image/png": "[encoded data removed]",
      "text/plain": [
       "<Figure size 432x288 with 1 Axes>"
      ]
     },
     "metadata": {
      "needs_background": "light"
     },
     "output_type": "display_data"
    }
   ],
   "source": [
    "x_values = weather_df['Lat']\n",
    "y_values = weather_df['Cloudiness']\n",
    "plt.title(\"City Latitude vs. Cloudiness (07/22/21)\")\n",
    "plt.scatter(x_values,y_values)\n",
    "plt.xlabel('Latitude')\n",
    "plt.ylabel('Cloudiness (%)')\n",
    "plt.grid(True)\n",
    "plt.show()"
   ]
  },
  {
   "cell_type": "markdown",
   "metadata": {},
   "source": [
    "## Latitude vs. Wind Speed Plot"
   ]
  },
  {
   "cell_type": "code",
   "execution_count": 12,
   "metadata": {},
   "outputs": [
    {
     "data": {
      "image/png": "[encoded data removed]",
      "text/plain": [
       "<Figure size 432x288 with 1 Axes>"
      ]
     },
     "metadata": {
      "needs_background": "light"
     },
     "output_type": "display_data"
    }
   ],
   "source": [
    "x_values = weather_df['Lat']\n",
    "y_values = weather_df['Wind Speed']\n",
    "plt.title(\"City Latitude vs. Wind Speed (07/22/21)\")\n",
    "plt.scatter(x_values,y_values)\n",
    "plt.xlabel('Latitude')\n",
    "plt.ylabel('Wind Speed (mph)')\n",
    "plt.grid(True)\n",
    "plt.show()"
   ]
  },
  {
   "cell_type": "markdown",
   "metadata": {},
   "source": [
    "## Linear Regression"
   ]
  },
  {
   "cell_type": "code",
   "execution_count": 24,
   "metadata": {},
   "outputs": [],
   "source": []
  },
  {
   "cell_type": "markdown",
   "metadata": {},
   "source": [
    "####  Northern Hemisphere - Max Temp vs. Latitude Linear Regression"
   ]
  },
  {
   "cell_type": "code",
   "execution_count": 25,
   "metadata": {},
   "outputs": [
    {
     "name": "stdout",
     "output_type": "stream",
     "text": [
      "The r-value is: 0.46937863826630627\n"
     ]
    },
    {
     "data": {
      "image/png": "[encoded data removed]",
      "text/plain": [
       "<Figure size 432x288 with 1 Axes>"
      ]
     },
     "metadata": {
      "needs_background": "light"
     },
     "output_type": "display_data"
    }
   ],
   "source": []
  },
  {
   "cell_type": "markdown",
   "metadata": {},
   "source": [
    "####  Southern Hemisphere - Max Temp vs. Latitude Linear Regression"
   ]
  },
  {
   "cell_type": "code",
   "execution_count": 26,
   "metadata": {},
   "outputs": [
    {
     "name": "stdout",
     "output_type": "stream",
     "text": [
      "The r-value is: 0.6082708688906918\n"
     ]
    },
    {
     "data": {
      "image/png": "[encoded data removed]",
      "text/plain": [
       "<Figure size 432x288 with 1 Axes>"
      ]
     },
     "metadata": {
      "needs_background": "light"
     },
     "output_type": "display_data"
    }
   ],
   "source": []
  },
  {
   "cell_type": "markdown",
   "metadata": {},
   "source": [
    "####  Northern Hemisphere - Humidity (%) vs. Latitude Linear Regression"
   ]
  },
  {
   "cell_type": "code",
   "execution_count": 27,
   "metadata": {},
   "outputs": [
    {
     "name": "stdout",
     "output_type": "stream",
     "text": [
      "The r-value is: 0.000543987878808455\n"
     ]
    },
    {
     "data": {
      "image/png": "[encoded data removed]",
      "text/plain": [
       "<Figure size 432x288 with 1 Axes>"
      ]
     },
     "metadata": {
      "needs_background": "light"
     },
     "output_type": "display_data"
    }
   ],
   "source": []
  },
  {
   "cell_type": "markdown",
   "metadata": {},
   "source": [
    "####  Southern Hemisphere - Humidity (%) vs. Latitude Linear Regression"
   ]
  },
  {
   "cell_type": "code",
   "execution_count": 28,
   "metadata": {},
   "outputs": [
    {
     "name": "stdout",
     "output_type": "stream",
     "text": [
      "The r-value is: 0.014985174297345524\n"
     ]
    },
    {
     "data": {
      "image/png": "[encoded data removed]",
      "text/plain": [
       "<Figure size 432x288 with 1 Axes>"
      ]
     },
     "metadata": {
      "needs_background": "light"
     },
     "output_type": "display_data"
    }
   ],
   "source": []
  },
  {
   "cell_type": "markdown",
   "metadata": {},
   "source": [
    "####  Northern Hemisphere - Cloudiness (%) vs. Latitude Linear Regression"
   ]
  },
  {
   "cell_type": "code",
   "execution_count": 29,
   "metadata": {},
   "outputs": [
    {
     "name": "stdout",
     "output_type": "stream",
     "text": [
      "The r-value is: 0.0020898727664228514\n"
     ]
    },
    {
     "data": {
      "image/png": "[encoded data removed]",
      "text/plain": [
       "<Figure size 432x288 with 1 Axes>"
      ]
     },
     "metadata": {
      "needs_background": "light"
     },
     "output_type": "display_data"
    }
   ],
   "source": []
  },
  {
   "cell_type": "markdown",
   "metadata": {},
   "source": [
    "####  Southern Hemisphere - Cloudiness (%) vs. Latitude Linear Regression"
   ]
  },
  {
   "cell_type": "code",
   "execution_count": 30,
   "metadata": {},
   "outputs": [
    {
     "name": "stdout",
     "output_type": "stream",
     "text": [
      "The r-value is: 0.0035263772085582894\n"
     ]
    },
    {
     "data": {
      "image/png": "[encoded data removed]",
      "text/plain": [
       "<Figure size 432x288 with 1 Axes>"
      ]
     },
     "metadata": {
      "needs_background": "light"
     },
     "output_type": "display_data"
    }
   ],
   "source": []
  },
  {
   "cell_type": "markdown",
   "metadata": {},
   "source": [
    "####  Northern Hemisphere - Wind Speed (mph) vs. Latitude Linear Regression"
   ]
  },
  {
   "cell_type": "code",
   "execution_count": 31,
   "metadata": {},
   "outputs": [
    {
     "name": "stdout",
     "output_type": "stream",
     "text": [
      "The r-value is: 0.04019723576144484\n"
     ]
    },
    {
     "data": {
      "image/png": "[encoded data removed]",
      "text/plain": [
       "<Figure size 432x288 with 1 Axes>"
      ]
     },
     "metadata": {
      "needs_background": "light"
     },
     "output_type": "display_data"
    }
   ],
   "source": []
  },
  {
   "cell_type": "markdown",
   "metadata": {},
   "source": [
    "####  Southern Hemisphere - Wind Speed (mph) vs. Latitude Linear Regression"
   ]
  },
  {
   "cell_type": "code",
   "execution_count": 32,
   "metadata": {},
   "outputs": [
    {
     "name": "stdout",
     "output_type": "stream",
     "text": [
      "The r-value is: 0.017128274759839232\n"
     ]
    },
    {
     "data": {
      "image/png": "[encoded data removed]",
      "text/plain": [
       "<Figure size 432x288 with 1 Axes>"
      ]
     },
     "metadata": {
      "needs_background": "light"
     },
     "output_type": "display_data"
    }
   ],
   "source": []
  },
  {
   "cell_type": "code",
   "execution_count": null,
   "metadata": {},
   "outputs": [],
   "source": []
  }
 ],
 "metadata": {
  "anaconda-cloud": {},
  "kernel_info": {
   "name": "python3"
  },
  "kernelspec": {
   "display_name": "Python 3",
   "language": "python",
   "name": "python3"
  },
  "language_info": {
   "codemirror_mode": {
    "name": "ipython",
    "version": 3
   },
   "file_extension": ".py",
   "mimetype": "text/x-python",
   "name": "python",
   "nbconvert_exporter": "python",
   "pygments_lexer": "ipython3",
   "version": "3.8.5"
  },
  "latex_envs": {
   "LaTeX_envs_menu_present": true,
   "autoclose": false,
   "autocomplete": true,
   "bibliofile": "biblio.bib",
   "cite_by": "apalike",
   "current_citInitial": 1,
   "eqLabelWithNumbers": true,
   "eqNumInitial": 1,
   "hotkeys": {
    "equation": "Ctrl-E",
    "itemize": "Ctrl-I"
   },
   "labels_anchors": false,
   "latex_user_defs": false,
   "report_style_numbering": false,
   "user_envs_cfg": false
  },
  "nteract": {
   "version": "0.12.3"
  }
 },
 "nbformat": 4,
 "nbformat_minor": 4
}
